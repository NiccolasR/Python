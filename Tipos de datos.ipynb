{
 "cells": [
  {
   "cell_type": "markdown",
   "metadata": {},
   "source": [
    "# Range()\n",
    "- Range(stop):\n",
    "Es la cantidad de números enteros que se deberán generar a partir de cero.\n",
    "- Range([start], stop[, step]: \n",
    "Es el número inicial de la secuencia, el número final de la secuencia y la diferencia entre cada número de la secuencia\n",
    "\n",
    "# Tuplas\n",
    "\n",
    "Una tupla es una secuencia de objetos incambiables de Python. Las tuplas son secuencias separadas por paréntesis."
   ]
  },
  {
   "cell_type": "markdown",
   "metadata": {},
   "source": [
    "# Listas\n",
    "\n",
    "Las listas son una secuencia de objetos cambiables de Python. Las listas pueden crearse configurando distintos valores separados por comas entre corchetes.\n",
    "\n",
    "# Conjuntos\n",
    "\n",
    "Los conjuntos son colecciones no ordenadas de elementos únicos. Las aplicaciones comunes incluyen verificación de pertenencia, la eliminación de duplicados de una secuencia y cálculos de operaciones matemáticas estándar en conjuntos, como la intersección, unión, diferencia y diferencia simétrica.\n",
    "\n",
    "# Diccionario\n",
    "\n",
    "Un diccionario es una lista de elementos separados por comas. Cada elemento es una combinación de un valor y una clave única. Cada clave se separa de su valor por dos puntos. El diccionario completo se escribe entre llaves. Se puede acceder a, actualizar o eliminar los elementos del diccionario. También hay muchas funciones integradas en el diccionario, como la función que compara elementos dentro de diferentes diccionarios y la que proporciona un conteo de la cantidad total de elementos de un diccionario. "
   ]
  },
  {
   "cell_type": "code",
   "execution_count": 4,
   "metadata": {},
   "outputs": [],
   "source": [
    "# Range\n",
    "# One parameter\n",
    "for i in range(3):\n",
    "    print(i)\n",
    "# Two parameters\n",
    "for i in range(3,6):\n",
    "    print(i)\n",
    "# Three parameters\n",
    "for i in range(4,10,2):\n",
    "    print(i)"
   ]
  },
  {
   "cell_type": "code",
   "execution_count": null,
   "metadata": {},
   "outputs": [],
   "source": [
    "# Tuplas\n",
    "tup1 = ('dancing','singing',400,1842);\n",
    "tup2 = (1,2,3,4,5,6,7);\n",
    "print (\"tup1[0]\",tup1[0])\n",
    "print (\"tup2[1:5]\",tup2[1:5])"
   ]
  },
  {
   "cell_type": "code",
   "execution_count": 7,
   "metadata": {},
   "outputs": [
    {
     "name": "stdout",
     "output_type": "stream",
     "text": [
      "list1[0] car\n",
      "list2[1:5] [2, 4, 5, 6]\n",
      "\n",
      "Value at index 2:  47\n",
      "New value at index 2:  2017\n"
     ]
    }
   ],
   "source": [
    "# Listas\n",
    "list1 = ['car','train',47,2016]\n",
    "list2 = [1,2,4,5,6,7]\n",
    "print(\"list1[0]\",list1[0])\n",
    "print(\"list2[1:5]\",list2[1:5])\n",
    "# Para actualizar un valor de la lista\n",
    "print(\"\\nValue at index 2: \",list1[2])\n",
    "list1[2] = 2017\n",
    "print(\"New value at index 2: \",list1[2])\n"
   ]
  },
  {
   "cell_type": "code",
   "execution_count": 18,
   "metadata": {},
   "outputs": [
    {
     "name": "stdout",
     "output_type": "stream",
     "text": [
      "{'Bird', 'Dog'}\n"
     ]
    }
   ],
   "source": [
    "# Conjuntos\n",
    "# set --> works so that the value is not repeated \n",
    "x = [1,2,3,1,2,3,1,2,3]\n",
    "set(x)\n",
    "z = [(\"Bird\",\"cat\",\"Dog\",\"Dog\",\"Bird\",\"Bird\")]\n",
    "set(z)\n",
    "# add --> Add a new value\n",
    "# discard --> discard value\n",
    "animals = set([\"Bird\",\"cat\",\"Dog\",\"Dog\",\"Bird\",\"Bird\"])\n",
    "for group in [animals]:\n",
    "    group.discard(\"cat\")\n",
    "print (animals)"
   ]
  },
  {
   "cell_type": "code",
   "execution_count": null,
   "metadata": {},
   "outputs": [],
   "source": [
    "# dicc\n",
    "dict = {'Age':20,'city':'Rome','Year':2020, 'Month':'March'}\n",
    "print (\"dict['Year']: \",dict['Year'])\n",
    "# Actualizamos\n",
    "dict['Year'] = 2021\n",
    "print (\"dict['Year']: \",dict['Year'])\n",
    "# Agregando elemento\n",
    "dict['Sport'] = \"Swimming\"\n",
    "len(dict)"
   ]
  }
 ],
 "metadata": {
  "kernelspec": {
   "display_name": "Python 3",
   "language": "python",
   "name": "python3"
  },
  "language_info": {
   "codemirror_mode": {
    "name": "ipython",
    "version": 3
   },
   "file_extension": ".py",
   "mimetype": "text/x-python",
   "name": "python",
   "nbconvert_exporter": "python",
   "pygments_lexer": "ipython3",
   "version": "3.7.9"
  }
 },
 "nbformat": 4,
 "nbformat_minor": 4
}
