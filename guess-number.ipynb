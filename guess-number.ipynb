{
 "cells": [
  {
   "cell_type": "code",
   "execution_count": null,
   "metadata": {},
   "outputs": [
    {
     "name": "stdout",
     "output_type": "stream",
     "text": [
      "I will think of a number between 1 and 10 and you should guess it\n"
     ]
    }
   ],
   "source": [
    "import random\n",
    "\n",
    "guess = None\n",
    "picked_num = None\n",
    "\n",
    "print(\"I will think of a number between 1 and 10 and you should guess it\")\n",
    "picked_num = random.randint(1,10)\n",
    "\n",
    "while guess != picked_num:\n",
    "    guess = int(input(\"Guess what number i just picked: \"))\n",
    "print(\"Congrats, you just guess the number!\")"
   ]
  }
 ],
 "metadata": {
  "kernelspec": {
   "display_name": "Python 3",
   "language": "python",
   "name": "python3"
  },
  "language_info": {
   "codemirror_mode": {
    "name": "ipython",
    "version": 3
   },
   "file_extension": ".py",
   "mimetype": "text/x-python",
   "name": "python",
   "nbconvert_exporter": "python",
   "pygments_lexer": "ipython3",
   "version": "3.7.9"
  }
 },
 "nbformat": 4,
 "nbformat_minor": 4
}
