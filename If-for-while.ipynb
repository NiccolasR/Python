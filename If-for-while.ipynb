{
 "cells": [
  {
   "cell_type": "code",
   "execution_count": 1,
   "metadata": {},
   "outputs": [
    {
     "name": "stdout",
     "output_type": "stream",
     "text": [
      "Please enter an integer: 3\n",
      "More\n"
     ]
    }
   ],
   "source": [
    "#IF THEN,ELSE,ELIF\n",
    "\n",
    "x = int(input(\"Please enter an integer: \"))\n",
    "if (x<0):\n",
    "    print(\"Negative changed to zero\")\n",
    "elif (x==0):\n",
    "    print(\"Zero\")\n",
    "elif (x==1):\n",
    "    print(\"Single\")\n",
    "else:\n",
    "    print(\"More\")"
   ]
  },
  {
   "cell_type": "code",
   "execution_count": 2,
   "metadata": {},
   "outputs": [
    {
     "name": "stdout",
     "output_type": "stream",
     "text": [
      "cat 3\n",
      "window 6\n",
      "defenestrate 12\n"
     ]
    }
   ],
   "source": [
    "# BUCLE FOR\n",
    "# Measure string\n",
    "words = ['cat','window','defenestrate']\n",
    "for w in words:\n",
    "    print(w,len(w))"
   ]
  },
  {
   "cell_type": "code",
   "execution_count": 6,
   "metadata": {},
   "outputs": [
    {
     "name": "stdout",
     "output_type": "stream",
     "text": [
      "1\n",
      "1\n",
      "2\n",
      "3\n",
      "5\n",
      "8\n"
     ]
    }
   ],
   "source": [
    "# BUCLE WHILE\n",
    "# Fibonacci serie\n",
    "# The sum of two elements defines the next\n",
    "a, b = 0, 1\n",
    "while b < 10:\n",
    "    print(b)\n",
    "    a, b = b, a+b"
   ]
  },
  {
   "cell_type": "code",
   "execution_count": null,
   "metadata": {},
   "outputs": [],
   "source": []
  }
 ],
 "metadata": {
  "kernelspec": {
   "display_name": "Python 3",
   "language": "python",
   "name": "python3"
  },
  "language_info": {
   "codemirror_mode": {
    "name": "ipython",
    "version": 3
   },
   "file_extension": ".py",
   "mimetype": "text/x-python",
   "name": "python",
   "nbconvert_exporter": "python",
   "pygments_lexer": "ipython3",
   "version": "3.7.9"
  }
 },
 "nbformat": 4,
 "nbformat_minor": 4
}
