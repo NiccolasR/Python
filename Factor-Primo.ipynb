{
 "cells": [
  {
   "cell_type": "code",
   "execution_count": null,
   "metadata": {},
   "outputs": [],
   "source": [
    "def factores_primos(n):\n",
    "    '''factores primos(n)   Funcion que retorna los factores primos de un numero\n",
    "    \n",
    "    Parametros:\n",
    "        - n: int\n",
    "        \n",
    "    Uso:\n",
    "        factores_primos(12)  -> [2, 2, 3]'''\n",
    "    if n < 1 or not isinstance(n, int):\n",
    "        return []\n",
    "    \n",
    "    div = 2\n",
    "    factores = []\n",
    "    # Lazo que encuentra los divisores del numero (factores)\n",
    "    while n is not 1:\n",
    "        # Si se tiene un factor, se guarda en la lista de salida\n",
    "        if n % div == 0:\n",
    "            factores.append(div)\n",
    "            n //=  div\n",
    "        else:\n",
    "            # ...de lo contrario se pasa a considerar el siguiente posible divisor\n",
    "            div += 1\n",
    "            \n",
    "    return factores"
   ]
  }
 ],
 "metadata": {
  "kernelspec": {
   "display_name": "Python 3",
   "language": "python",
   "name": "python3"
  },
  "language_info": {
   "codemirror_mode": {
    "name": "ipython",
    "version": 3
   },
   "file_extension": ".py",
   "mimetype": "text/x-python",
   "name": "python",
   "nbconvert_exporter": "python",
   "pygments_lexer": "ipython3",
   "version": "3.7.9"
  }
 },
 "nbformat": 4,
 "nbformat_minor": 4
}
